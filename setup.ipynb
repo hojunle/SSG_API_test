{
 "cells": [
  {
   "cell_type": "code",
   "execution_count": 1,
   "metadata": {},
   "outputs": [],
   "source": [
    "from setuptools import setup\n",
    "\n",
    "def readme():\n",
    "    with open ('README.md') as f:\n",
    "        README = f.read()\n",
    "    return README\n",
    "\n",
    "setuptools.setup(\n",
    "    name=\"SSG_API_test\", # Replace with your own username\n",
    "    version=\"0.0.1\",\n",
    "    author=\"Ho Jun Le\",\n",
    "    author_email=\"hojunle@outlook.com\",\n",
    "    description=\"A Python package to get SSG APIs.\",\n",
    "    long_description= readme(),\n",
    "    long_description_content_type=\"text/markdown\",\n",
    "    url=\"https://github.com/hojunle/SSG_API_test\",\n",
    "    packages=[\"SSG_API_test\"],\n",
    "    include_package_Data = True\n",
    "    install_requires=[\"requests\",\"json\",\"pprint\",\"HTTPBasicAuth\"]\n",
    "    classifiers=[\n",
    "        \"Programming Language :: Python :: 3\",\n",
    "        \"License :: OSI Approved :: MIT License\",\n",
    "        \"Operating System :: OS Independent\",\n",
    "    ],\n",
    "    python_requires='>=3.6',\n",
    ")"
   ]
  }
 ],
 "metadata": {
  "kernelspec": {
   "display_name": "Python 3",
   "language": "python",
   "name": "python3"
  },
  "language_info": {
   "codemirror_mode": {
    "name": "ipython",
    "version": 3
   },
   "file_extension": ".py",
   "mimetype": "text/x-python",
   "name": "python",
   "nbconvert_exporter": "python",
   "pygments_lexer": "ipython3",
   "version": "3.7.1"
  }
 },
 "nbformat": 4,
 "nbformat_minor": 2
}
